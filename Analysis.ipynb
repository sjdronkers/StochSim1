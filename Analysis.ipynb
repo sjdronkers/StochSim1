{
 "cells": [
  {
   "cell_type": "markdown",
   "metadata": {},
   "source": [
    "# Stochastic Simulation"
   ]
  },
  {
   "cell_type": "code",
   "execution_count": 1,
   "metadata": {},
   "outputs": [],
   "source": [
    "import matplotlib.pyplot as plt\n",
    "import numpy as np"
   ]
  },
  {
   "cell_type": "code",
   "execution_count": 2,
   "metadata": {},
   "outputs": [],
   "source": [
    "# Set global variables\n",
    "X_MIN = -2\n",
    "X_MAX = 0.5\n",
    "Y_MIN = -1\n",
    "Y_MAX = 1\n",
    "TOTAL_AREA = (X_MAX - X_MIN) * (Y_MAX - Y_MIN)"
   ]
  },
  {
   "cell_type": "markdown",
   "metadata": {},
   "source": [
    "## Question 1"
   ]
  },
  {
   "cell_type": "code",
   "execution_count": 3,
   "metadata": {},
   "outputs": [],
   "source": [
    "def is_mandelbrot(c, iterations, plotting=False) -> bool:\n",
    "    \"\"\"\n",
    "    Checks whether a value is part of the Mandelbrot set and returns a True\n",
    "    of False value.\n",
    "    \"\"\"\n",
    "    z = complex(0)\n",
    "\n",
    "    # Go through iterations and check whether the value is in the set.\n",
    "    for i in range(iterations):\n",
    "        if abs(z) > 2 and plotting:\n",
    "            return i\n",
    "        elif abs(z) > 2:\n",
    "            return False\n",
    "\n",
    "        # Compute next iteration\n",
    "        z = z ** 2 + c\n",
    "\n",
    "    if plotting:\n",
    "        return iterations\n",
    "\n",
    "    # Value is in the set after the number of iterations.\n",
    "    return True"
   ]
  },
  {
   "cell_type": "code",
   "execution_count": 5,
   "metadata": {},
   "outputs": [],
   "source": [
    "# Check Mandelbrot iteration\n",
    "assert is_mandelbrot(-1, 1000) == True\n",
    "assert is_mandelbrot(-2, 1000) == True\n",
    "assert is_mandelbrot(0.25, 1000) == True\n",
    "assert is_mandelbrot(1, 1000) == False\n",
    "assert is_mandelbrot(0.26, 10) == True"
   ]
  },
  {
   "cell_type": "code",
   "execution_count": 6,
   "metadata": {},
   "outputs": [],
   "source": [
    "def linear_points(sample_size, x_min, x_max, y_min, y_max) -> list:\n",
    "    \"\"\"\n",
    "    Generates evenly spaced points.\n",
    "    \"\"\"\n",
    "    return (np.linspace(x_min, x_max, sample_size)[np.newaxis,:]\n",
    "        + np.linspace(y_min, y_max, sample_size)[:,np.newaxis] * 1j)"
   ]
  },
  {
   "cell_type": "code",
   "execution_count": 8,
   "metadata": {},
   "outputs": [
    {
     "data": {
      "text/plain": [
       "True"
      ]
     },
     "execution_count": 8,
     "metadata": {},
     "output_type": "execute_result"
    }
   ],
   "source": [
    "complex_plane = linear_points(1000, X_MIN, X_MAX, Y_MIN, Y_MAX)"
   ]
  },
  {
   "cell_type": "code",
   "execution_count": 57,
   "metadata": {},
   "outputs": [],
   "source": [
    "def plot_image(complex_plane) -> None:\n",
    "\n",
    "    # extent = -2, 0.5, -1, 1\n",
    "    # fig = plt.figure(frameon=False)\n",
    "    # im1 = plt.imshow(is_mandelbrot(complex_plane, 1), cmap='Greens', extent=extent)\n",
    "    # im2 = plt.imshow(is_mandelbrot(complex_plane, 10), cmap='Reds', alpha=0.6,  extent=extent)\n",
    "    # im3 = plt.imshow(is_mandelbrot(complex_plane, 100), cmap='Blues', alpha=0.8, extent=extent)\n",
    "    # plt.show()\n",
    "    combined_layers = np.stack([is_mandelbrot(complex_plane, 1), is_mandelbrot(complex_plane, 10), is_mandelbrot(complex_plane, 100)], axis=-1)\n",
    "    plt.imshow(combined_layers, cmap='viridis', interpolation='none', aspect='auto')"
   ]
  },
  {
   "cell_type": "code",
   "execution_count": 58,
   "metadata": {},
   "outputs": [
    {
     "ename": "ValueError",
     "evalue": "The truth value of an array with more than one element is ambiguous. Use a.any() or a.all()",
     "output_type": "error",
     "traceback": [
      "\u001b[0;31m---------------------------------------------------------------------------\u001b[0m",
      "\u001b[0;31mValueError\u001b[0m                                Traceback (most recent call last)",
      "\u001b[1;32m/Users/sjoerddronkers/Desktop/Master/Year_2/Stochastic/StochSim1/Analysis.ipynb Cell 10\u001b[0m line \u001b[0;36m1\n\u001b[0;32m----> <a href='vscode-notebook-cell:/Users/sjoerddronkers/Desktop/Master/Year_2/Stochastic/StochSim1/Analysis.ipynb#X14sZmlsZQ%3D%3D?line=0'>1</a>\u001b[0m plot_image(complex_plane)\n",
      "\u001b[1;32m/Users/sjoerddronkers/Desktop/Master/Year_2/Stochastic/StochSim1/Analysis.ipynb Cell 10\u001b[0m line \u001b[0;36m9\n\u001b[1;32m      <a href='vscode-notebook-cell:/Users/sjoerddronkers/Desktop/Master/Year_2/Stochastic/StochSim1/Analysis.ipynb#X14sZmlsZQ%3D%3D?line=0'>1</a>\u001b[0m \u001b[39mdef\u001b[39;00m \u001b[39mplot_image\u001b[39m(complex_plane) \u001b[39m-\u001b[39m\u001b[39m>\u001b[39m \u001b[39mNone\u001b[39;00m:\n\u001b[1;32m      <a href='vscode-notebook-cell:/Users/sjoerddronkers/Desktop/Master/Year_2/Stochastic/StochSim1/Analysis.ipynb#X14sZmlsZQ%3D%3D?line=1'>2</a>\u001b[0m \n\u001b[1;32m      <a href='vscode-notebook-cell:/Users/sjoerddronkers/Desktop/Master/Year_2/Stochastic/StochSim1/Analysis.ipynb#X14sZmlsZQ%3D%3D?line=2'>3</a>\u001b[0m     \u001b[39m# extent = -2, 0.5, -1, 1\u001b[39;00m\n\u001b[0;32m   (...)\u001b[0m\n\u001b[1;32m      <a href='vscode-notebook-cell:/Users/sjoerddronkers/Desktop/Master/Year_2/Stochastic/StochSim1/Analysis.ipynb#X14sZmlsZQ%3D%3D?line=6'>7</a>\u001b[0m     \u001b[39m# im3 = plt.imshow(is_mandelbrot(complex_plane, 100), cmap='Blues', alpha=0.8, extent=extent)\u001b[39;00m\n\u001b[1;32m      <a href='vscode-notebook-cell:/Users/sjoerddronkers/Desktop/Master/Year_2/Stochastic/StochSim1/Analysis.ipynb#X14sZmlsZQ%3D%3D?line=7'>8</a>\u001b[0m     \u001b[39m# plt.show()\u001b[39;00m\n\u001b[0;32m----> <a href='vscode-notebook-cell:/Users/sjoerddronkers/Desktop/Master/Year_2/Stochastic/StochSim1/Analysis.ipynb#X14sZmlsZQ%3D%3D?line=8'>9</a>\u001b[0m     combined_layers \u001b[39m=\u001b[39m np\u001b[39m.\u001b[39mstack([is_mandelbrot(complex_plane, \u001b[39m1\u001b[39m), is_mandelbrot(complex_plane, \u001b[39m10\u001b[39;49m), is_mandelbrot(complex_plane, \u001b[39m100\u001b[39m)], axis\u001b[39m=\u001b[39m\u001b[39m-\u001b[39m\u001b[39m1\u001b[39m)\n\u001b[1;32m     <a href='vscode-notebook-cell:/Users/sjoerddronkers/Desktop/Master/Year_2/Stochastic/StochSim1/Analysis.ipynb#X14sZmlsZQ%3D%3D?line=9'>10</a>\u001b[0m     plt\u001b[39m.\u001b[39mimshow(combined_layers, cmap\u001b[39m=\u001b[39m\u001b[39m'\u001b[39m\u001b[39mviridis\u001b[39m\u001b[39m'\u001b[39m, interpolation\u001b[39m=\u001b[39m\u001b[39m'\u001b[39m\u001b[39mnone\u001b[39m\u001b[39m'\u001b[39m, aspect\u001b[39m=\u001b[39m\u001b[39m'\u001b[39m\u001b[39mauto\u001b[39m\u001b[39m'\u001b[39m)\n",
      "\u001b[1;32m/Users/sjoerddronkers/Desktop/Master/Year_2/Stochastic/StochSim1/Analysis.ipynb Cell 10\u001b[0m line \u001b[0;36m1\n\u001b[1;32m      <a href='vscode-notebook-cell:/Users/sjoerddronkers/Desktop/Master/Year_2/Stochastic/StochSim1/Analysis.ipynb#X14sZmlsZQ%3D%3D?line=7'>8</a>\u001b[0m \u001b[39m# Go through iterations and check whether the value is in the set.\u001b[39;00m\n\u001b[1;32m      <a href='vscode-notebook-cell:/Users/sjoerddronkers/Desktop/Master/Year_2/Stochastic/StochSim1/Analysis.ipynb#X14sZmlsZQ%3D%3D?line=8'>9</a>\u001b[0m \u001b[39mfor\u001b[39;00m i \u001b[39min\u001b[39;00m \u001b[39mrange\u001b[39m(iterations):\n\u001b[0;32m---> <a href='vscode-notebook-cell:/Users/sjoerddronkers/Desktop/Master/Year_2/Stochastic/StochSim1/Analysis.ipynb#X14sZmlsZQ%3D%3D?line=9'>10</a>\u001b[0m     \u001b[39mif\u001b[39;00m \u001b[39mabs\u001b[39m(z) \u001b[39m>\u001b[39m \u001b[39m2\u001b[39m \u001b[39mand\u001b[39;00m plotting:\n\u001b[1;32m     <a href='vscode-notebook-cell:/Users/sjoerddronkers/Desktop/Master/Year_2/Stochastic/StochSim1/Analysis.ipynb#X14sZmlsZQ%3D%3D?line=10'>11</a>\u001b[0m         \u001b[39mreturn\u001b[39;00m i\n\u001b[1;32m     <a href='vscode-notebook-cell:/Users/sjoerddronkers/Desktop/Master/Year_2/Stochastic/StochSim1/Analysis.ipynb#X14sZmlsZQ%3D%3D?line=11'>12</a>\u001b[0m     \u001b[39melif\u001b[39;00m \u001b[39mabs\u001b[39m(z) \u001b[39m>\u001b[39m \u001b[39m2\u001b[39m:\n",
      "\u001b[0;31mValueError\u001b[0m: The truth value of an array with more than one element is ambiguous. Use a.any() or a.all()"
     ]
    }
   ],
   "source": [
    "plot_image(complex_plane)"
   ]
  },
  {
   "cell_type": "markdown",
   "metadata": {},
   "source": [
    "## Question 2"
   ]
  },
  {
   "cell_type": "code",
   "execution_count": 39,
   "metadata": {},
   "outputs": [],
   "source": [
    "def mandelbrot(c, iterations) -> bool:\n",
    "    \"\"\"\n",
    "    Checks whether a value is part of the Mandelbrot set and returns a True\n",
    "    of False value.\n",
    "    \"\"\"\n",
    "    z = complex(0)\n",
    "\n",
    "    # Go through iterations and check whether the value is in the set.\n",
    "    for i in range(iterations):\n",
    "        if abs(z) > 2:\n",
    "            return False\n",
    "        # Compute next iteration\n",
    "        z = z ** 2 + c\n",
    "\n",
    "    # Value is in the set after the number of iterations.\n",
    "    return True"
   ]
  },
  {
   "cell_type": "code",
   "execution_count": 41,
   "metadata": {},
   "outputs": [],
   "source": [
    "def sample_test(sample, iterations) -> float:\n",
    "    \"\"\"\n",
    "    This function checks for every point in the sample whether it is part of\n",
    "    the Mandelbrot set. Then is sums al the true values and divide it by the\n",
    "    total points to get the percentage of points in the set.\n",
    "    \"\"\"\n",
    "\n",
    "    m = len(sample)\n",
    "    n = len(sample[0])\n",
    "\n",
    "    result = np.zeros((n,m), dtype=bool)\n",
    "    true_count = 0\n",
    "\n",
    "    # Go through the sample and check for each point if it is in the set.\n",
    "    for i in range(0,m):\n",
    "        for j in range(0,n):\n",
    "            result[i][j] = mandelbrot(sample[i][j], iterations)\n",
    "\n",
    "        # Sum the number of values in the set.\n",
    "        true_count += sum(result[i])\n",
    "\n",
    "    # Return the estimated area of the Mandelbrot set.\n",
    "    return true_count / (m * n) * TOTAL_AREA"
   ]
  },
  {
   "cell_type": "code",
   "execution_count": 45,
   "metadata": {},
   "outputs": [],
   "source": [
    "# Values from paper\n",
    "assert 1.37 <= sample_test(complex_plane, 1000) <= 1.68"
   ]
  },
  {
   "cell_type": "markdown",
   "metadata": {},
   "source": [
    "### Analysis"
   ]
  },
  {
   "cell_type": "code",
   "execution_count": 42,
   "metadata": {},
   "outputs": [],
   "source": [
    "iterations = [1, 10, 100, 1000, 10000]\n",
    "epsilon = 0.01"
   ]
  },
  {
   "cell_type": "code",
   "execution_count": 43,
   "metadata": {},
   "outputs": [],
   "source": [
    "results = [sample_test(complex_plane, iter) for iter in iterations]"
   ]
  },
  {
   "cell_type": "code",
   "execution_count": 44,
   "metadata": {},
   "outputs": [
    {
     "data": {
      "text/plain": [
       "[5.0, 2.08275, 1.5439, 1.50718, 1.503555]"
      ]
     },
     "execution_count": 44,
     "metadata": {},
     "output_type": "execute_result"
    }
   ],
   "source": [
    "results"
   ]
  },
  {
   "cell_type": "code",
   "execution_count": 48,
   "metadata": {},
   "outputs": [],
   "source": [
    "diff = [results[i - 1] - results[i] for i in range(1, len(results))]"
   ]
  },
  {
   "cell_type": "code",
   "execution_count": 52,
   "metadata": {},
   "outputs": [
    {
     "data": {
      "image/png": "[encoded data removed]",
      "text/plain": [
       "<Figure size 640x480 with 1 Axes>"
      ]
     },
     "metadata": {},
     "output_type": "display_data"
    }
   ],
   "source": [
    "plt.plot([0, 1, 2, 3], diff)\n",
    "plt.show()"
   ]
  },
  {
   "cell_type": "code",
   "execution_count": null,
   "metadata": {},
   "outputs": [],
   "source": []
  }
 ],
 "metadata": {
  "kernelspec": {
   "display_name": "Python 3",
   "language": "python",
   "name": "python3"
  },
  "language_info": {
   "codemirror_mode": {
    "name": "ipython",
    "version": 3
   },
   "file_extension": ".py",
   "mimetype": "text/x-python",
   "name": "python",
   "nbconvert_exporter": "python",
   "pygments_lexer": "ipython3",
   "version": "3.9.9"
  }
 },
 "nbformat": 4,
 "nbformat_minor": 2
}
